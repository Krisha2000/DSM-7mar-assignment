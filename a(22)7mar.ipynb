{
 "cells": [
  {
   "cell_type": "markdown",
   "id": "dff76d03-c796-434a-8ac4-13afda8b082d",
   "metadata": {},
   "source": [
    "# Quetion : 1"
   ]
  },
  {
   "cell_type": "markdown",
   "id": "77f8f781-7b86-4eb3-9e60-83364618b426",
   "metadata": {},
   "source": [
    "The three measures of central tendency are mean, median, and mode."
   ]
  },
  {
   "cell_type": "markdown",
   "id": "7f8d6938-43cf-43b4-949f-f7ba05e73c35",
   "metadata": {},
   "source": [
    "# Quetion : 2"
   ]
  },
  {
   "cell_type": "markdown",
   "id": "d7342725-5883-4f35-8a91-38dcdbf37e9e",
   "metadata": {},
   "source": [
    "The mean is the arithmetic average of all values in a dataset, the median is the middle value when the data is arranged in order, and the mode is the most frequent value in the dataset. They are used to represent the center of the distribution of the dataset."
   ]
  },
  {
   "cell_type": "markdown",
   "id": "cca51a15-73ee-4140-ace2-a87ccfc349a2",
   "metadata": {},
   "source": [
    "# Quetion : 3"
   ]
  },
  {
   "cell_type": "markdown",
   "id": "ba6f1d02-e5a5-4c53-b3bd-9f3081803a2d",
   "metadata": {},
   "source": [
    "The mean is 177.75, the median is 177.5, and the mode is 178."
   ]
  },
  {
   "cell_type": "markdown",
   "id": "d8faf6bc-5d46-4566-90b8-16a3db0ddaa0",
   "metadata": {},
   "source": [
    "# Quetion : 4"
   ]
  },
  {
   "cell_type": "code",
   "execution_count": 7,
   "id": "47bb1654-604e-4d9c-9ae7-4a0d652768b2",
   "metadata": {},
   "outputs": [
    {
     "name": "stdout",
     "output_type": "stream",
     "text": [
      "mean : 177.01875\n",
      "medean : 177.0\n",
      "mode : ModeResult(mode=array([177.]), count=array([3]))\n"
     ]
    },
    {
     "name": "stderr",
     "output_type": "stream",
     "text": [
      "/tmp/ipykernel_410/3356619722.py:6: FutureWarning: Unlike other reduction functions (e.g. `skew`, `kurtosis`), the default behavior of `mode` typically preserves the axis it acts along. In SciPy 1.11.0, this behavior will change: the default value of `keepdims` will become False, the `axis` over which the statistic is taken will be eliminated, and the value None will no longer be accepted. Set `keepdims` to True or False to avoid this warning.\n",
      "  mode=stats.mode(data)\n"
     ]
    }
   ],
   "source": [
    "import numpy as np\n",
    "from scipy import stats\n",
    "data=[178,177,176,177,178.2,178,175,179,180,175,178.9,176.2,177,172.5,178,176.5]\n",
    "mean=np.mean(data)\n",
    "median=np.median(data)\n",
    "mode=stats.mode(data)\n",
    "print(\"mean :\",mean)\n",
    "print(\"medean :\",median)\n",
    "print(\"mode :\",mode)\n"
   ]
  },
  {
   "cell_type": "markdown",
   "id": "3d356457-fd67-445a-a6da-3aaf0c3ca226",
   "metadata": {},
   "source": [
    "# Quetion : 5"
   ]
  },
  {
   "cell_type": "markdown",
   "id": "9b8c1a4b-abe7-48e9-a95f-832c0bb63e11",
   "metadata": {},
   "source": [
    "Measures of dispersion are used to describe how spread out the values in a dataset are. Range measures the difference between the largest and smallest value in the dataset, variance measures how far the data points are from the mean, and standard deviation measures the spread of the data in relation to the mean. For example, if two datasets have the same mean but different standard deviations, the one with the higher standard deviation has more spread-out data."
   ]
  },
  {
   "cell_type": "markdown",
   "id": "1d126d9d-e0c3-4ab6-bb07-be1ece7aa8d1",
   "metadata": {},
   "source": [
    "# Quetion : 6"
   ]
  },
  {
   "cell_type": "markdown",
   "id": "0570d3d2-3542-4af8-b930-2be2f20c9ca0",
   "metadata": {},
   "source": [
    "A Venn diagram is a diagram that shows all possible logical relations between a finite collection of different sets."
   ]
  },
  {
   "cell_type": "markdown",
   "id": "dc6ae36a-070c-486d-b75e-a4d8d1157d00",
   "metadata": {},
   "source": [
    "# Quetion : 7"
   ]
  },
  {
   "cell_type": "markdown",
   "id": "680926f9-281d-4697-b10a-ae30b0baccd3",
   "metadata": {},
   "source": [
    "(i) A ⋂ B = (2, 6)\n",
    "\n",
    "\n",
    "\n",
    "(ii) A ⋃ B = (0,2,3,4,5,6,7,8,10)"
   ]
  },
  {
   "cell_type": "markdown",
   "id": "756907c3-3c79-4fe0-97c4-0001d0862b69",
   "metadata": {},
   "source": [
    "# Quetion : 8"
   ]
  },
  {
   "cell_type": "markdown",
   "id": "f9eb39a2-aaa0-4151-95ec-29ea47ab3949",
   "metadata": {},
   "source": [
    "Skewness refers to the lack of symmetry in a dataset. It occurs when the data points are not evenly distributed around the mean."
   ]
  },
  {
   "cell_type": "markdown",
   "id": "2b51e9c0-38cc-4d73-9e4b-64db466323bc",
   "metadata": {},
   "source": [
    "# Quetion : 9"
   ]
  },
  {
   "cell_type": "markdown",
   "id": "7bd37ad3-6c4f-422a-931c-6efbf37a59cf",
   "metadata": {},
   "source": [
    "If a data is right-skewed, the median will be less than the mean."
   ]
  },
  {
   "cell_type": "markdown",
   "id": "a24783e3-22fe-4fd9-aa1a-dae2a6f48f56",
   "metadata": {},
   "source": [
    "# Quetion : 10"
   ]
  },
  {
   "cell_type": "markdown",
   "id": "c1f88f46-6ba6-495f-9cbe-b8b53ef4f06b",
   "metadata": {},
   "source": [
    "Covariance measures the relationship between two variables, while correlation measures both the strength and direction of the relationship between two variables. These measures are used in statistical analysis to determine the degree of dependence between two variables."
   ]
  },
  {
   "cell_type": "markdown",
   "id": "47fefb6e-34f1-4b8e-9960-d7728e949ed6",
   "metadata": {},
   "source": [
    "# Quetion : 11"
   ]
  },
  {
   "cell_type": "code",
   "execution_count": null,
   "id": "11e21042-03a4-49ba-b304-61c2dccdee1b",
   "metadata": {},
   "outputs": [],
   "source": []
  }
 ],
 "metadata": {
  "kernelspec": {
   "display_name": "Python 3 (ipykernel)",
   "language": "python",
   "name": "python3"
  },
  "language_info": {
   "codemirror_mode": {
    "name": "ipython",
    "version": 3
   },
   "file_extension": ".py",
   "mimetype": "text/x-python",
   "name": "python",
   "nbconvert_exporter": "python",
   "pygments_lexer": "ipython3",
   "version": "3.10.8"
  }
 },
 "nbformat": 4,
 "nbformat_minor": 5
}
